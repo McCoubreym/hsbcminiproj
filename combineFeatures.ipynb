{
 "cells": [
  {
   "cell_type": "markdown",
   "source": [
    "## Data Tidying and Exploration\n",
    "28/04/2022"
   ],
   "metadata": {
    "collapsed": false,
    "pycharm": {
     "name": "#%% md\n"
    }
   }
  },
  {
   "cell_type": "markdown",
   "source": [
    "**Combining all the combined files**\n",
    "Notes:\n",
    "- Seems that there isnt the same amount of LOB features as csv feature files\n",
    "- Didnt end up using this as tape features are daily and LOB features are per timestamp (in hindsight probably better to keep the features seperate although not sure if this has a benefit for a ML model)\n",
    "- Uploaded to AWS"
   ],
   "metadata": {
    "collapsed": false,
    "pycharm": {
     "name": "#%% md\n"
    }
   }
  },
  {
   "cell_type": "code",
   "execution_count": 3,
   "metadata": {
    "collapsed": true
   },
   "outputs": [
    {
     "name": "stdout",
     "output_type": "stream",
     "text": [
      "Location: Combined Features /0202CombinedFeatures.csv\n",
      "Location: Combined Features /1402CombinedFeatures.csv\n",
      "Location: Combined Features /2601CombinedFeatures.csv\n",
      "Location: Combined Features /0203CombinedFeatures.csv\n",
      "Location: Combined Features /2402CombinedFeatures.csv\n",
      "Location: Combined Features /0803CombinedFeatures.csv\n",
      "Location: Combined Features /0802CombinedFeatures.csv\n",
      "Location: Combined Features /1602CombinedFeatures.csv\n",
      "Location: Combined Features /2401CombinedFeatures.csv\n",
      "Location: Combined Features /1002CombinedFeatures.csv\n",
      "Location: Combined Features /1003CombinedFeatures.csv\n",
      "Location: Combined Features /1801CombinedFeatures.csv\n",
      "Location: Combined Features /1802CombinedFeatures.csv\n",
      "Location: Combined Features /2202CombinedFeatures.csv\n",
      "Location: Combined Features /1001CombinedFeatures.csv\n",
      "Location: Combined Features /0601CombinedFeatures.csv\n",
      "Location: Combined Features /0403CombinedFeatures.csv\n",
      "Location: Combined Features /2001CombinedFeatures.csv\n",
      "Location: Combined Features /1201CombinedFeatures.csv\n",
      "Location: Combined Features /0401CombinedFeatures.csv\n",
      "Location: Combined Features /1502CombinedFeatures.csv\n",
      "Location: Combined Features /2701CombinedFeatures.csv\n",
      "Location: Combined Features /0302CombinedFeatures.csv\n",
      "Location: Combined Features /0103CombinedFeatures.csv\n",
      "Location: Combined Features /1702CombinedFeatures.csv\n",
      "Location: Combined Features /2501CombinedFeatures.csv\n",
      "Location: Combined Features /0903CombinedFeatures.csv\n",
      "Location: Combined Features /1701CombinedFeatures.csv\n",
      "Location: Combined Features /2502CombinedFeatures.csv\n",
      "Location: Combined Features /0902CombinedFeatures.csv\n",
      "Location: Combined Features /2904CombinedFeatures.csv\n",
      "Location: Combined Features /0701CombinedFeatures.csv\n",
      "Location: Combined Features /2302CombinedFeatures.csv\n",
      "Location: Combined Features /1101CombinedFeatures.csv\n",
      "Location: Combined Features /1102CombinedFeatures.csv\n",
      "Location: Combined Features /0702CombinedFeatures.csv\n",
      "Location: Combined Features /1901CombinedFeatures.csv\n",
      "Location: Combined Features /0501CombinedFeatures.csv\n",
      "Location: Combined Features /2102CombinedFeatures.csv\n",
      "Location: Combined Features /1301CombinedFeatures.csv\n",
      "Location: Combined Features /2101CombinedFeatures.csv\n"
     ]
    }
   ],
   "source": [
    "import pandas as pd\n",
    "import os\n",
    "import glob\n",
    "\n",
    "path = 'Combined Features '\n",
    "csv_files = glob.glob(os.path.join(path, \"*.csv\"))\n",
    "\n",
    "cf = pd.DataFrame()\n",
    "\n",
    "for f in csv_files:\n",
    "\n",
    "    df = pd.read_csv(f)\n",
    "\n",
    "    print('Location:', f)\n",
    "    string = f.split(\"/\")[-1][:4]\n",
    "    df['date'] = [string[:2]+'/'+string[2:]+'/2021']*len(df)\n",
    "    df['index'] = df.index\n",
    "    cf = pd.concat([cf,df])"
   ]
  },
  {
   "cell_type": "code",
   "execution_count": 11,
   "outputs": [],
   "source": [
    "cf.to_csv('combinedFeaturesv2.csv')"
   ],
   "metadata": {
    "collapsed": false,
    "pycharm": {
     "name": "#%%\n"
    }
   }
  },
  {
   "cell_type": "code",
   "execution_count": 4,
   "outputs": [
    {
     "data": {
      "text/plain": "    time  Price  Quantity  ClosingPrice  HighestPrice  LowestPrice  \\\n0  4.176  186.0         2         174.0         189.0        152.0   \n1  4.176  185.0         2         174.0         189.0        152.0   \n2  5.056  187.0         1         174.0         189.0        152.0   \n3  5.168  187.0         1         174.0         189.0        152.0   \n4  5.168  185.0         2         174.0         189.0        152.0   \n\n   VolumeTraded  SMA10Days  SMA16Days  SMA22Days  ...  numberOfBids  askAvg  \\\n0        119022       35.8     22.375  16.272727  ...             8   514.0   \n1        119022       35.8     22.375  16.272727  ...             8   514.0   \n2        119022       35.8     22.375  16.272727  ...             8   296.5   \n3        119022       35.8     22.375  16.272727  ...             7   296.5   \n4        119022       35.8     22.375  16.272727  ...             7   296.5   \n\n   askIqr  askBestPrice  askQuantityAtBestPrice  askQuantAvg  askQuantIqr  \\\n0  342.75         258.0                     1.0          3.0         2.25   \n1  342.75         258.0                     1.0          3.0         2.25   \n2  188.25         255.0                     1.0          3.0         2.25   \n3  188.25         255.0                     1.0          3.0         2.25   \n4  188.25         255.0                     1.0          3.0         2.25   \n\n   numberOfAsks        date  index  \n0             6  02/02/2021      0  \n1             6  02/02/2021      1  \n2             6  02/02/2021      2  \n3             6  02/02/2021      3  \n4             6  02/02/2021      4  \n\n[5 rows x 34 columns]",
      "text/html": "<div>\n<style scoped>\n    .dataframe tbody tr th:only-of-type {\n        vertical-align: middle;\n    }\n\n    .dataframe tbody tr th {\n        vertical-align: top;\n    }\n\n    .dataframe thead th {\n        text-align: right;\n    }\n</style>\n<table border=\"1\" class=\"dataframe\">\n  <thead>\n    <tr style=\"text-align: right;\">\n      <th></th>\n      <th>time</th>\n      <th>Price</th>\n      <th>Quantity</th>\n      <th>ClosingPrice</th>\n      <th>HighestPrice</th>\n      <th>LowestPrice</th>\n      <th>VolumeTraded</th>\n      <th>SMA10Days</th>\n      <th>SMA16Days</th>\n      <th>SMA22Days</th>\n      <th>...</th>\n      <th>numberOfBids</th>\n      <th>askAvg</th>\n      <th>askIqr</th>\n      <th>askBestPrice</th>\n      <th>askQuantityAtBestPrice</th>\n      <th>askQuantAvg</th>\n      <th>askQuantIqr</th>\n      <th>numberOfAsks</th>\n      <th>date</th>\n      <th>index</th>\n    </tr>\n  </thead>\n  <tbody>\n    <tr>\n      <th>0</th>\n      <td>4.176</td>\n      <td>186.0</td>\n      <td>2</td>\n      <td>174.0</td>\n      <td>189.0</td>\n      <td>152.0</td>\n      <td>119022</td>\n      <td>35.8</td>\n      <td>22.375</td>\n      <td>16.272727</td>\n      <td>...</td>\n      <td>8</td>\n      <td>514.0</td>\n      <td>342.75</td>\n      <td>258.0</td>\n      <td>1.0</td>\n      <td>3.0</td>\n      <td>2.25</td>\n      <td>6</td>\n      <td>02/02/2021</td>\n      <td>0</td>\n    </tr>\n    <tr>\n      <th>1</th>\n      <td>4.176</td>\n      <td>185.0</td>\n      <td>2</td>\n      <td>174.0</td>\n      <td>189.0</td>\n      <td>152.0</td>\n      <td>119022</td>\n      <td>35.8</td>\n      <td>22.375</td>\n      <td>16.272727</td>\n      <td>...</td>\n      <td>8</td>\n      <td>514.0</td>\n      <td>342.75</td>\n      <td>258.0</td>\n      <td>1.0</td>\n      <td>3.0</td>\n      <td>2.25</td>\n      <td>6</td>\n      <td>02/02/2021</td>\n      <td>1</td>\n    </tr>\n    <tr>\n      <th>2</th>\n      <td>5.056</td>\n      <td>187.0</td>\n      <td>1</td>\n      <td>174.0</td>\n      <td>189.0</td>\n      <td>152.0</td>\n      <td>119022</td>\n      <td>35.8</td>\n      <td>22.375</td>\n      <td>16.272727</td>\n      <td>...</td>\n      <td>8</td>\n      <td>296.5</td>\n      <td>188.25</td>\n      <td>255.0</td>\n      <td>1.0</td>\n      <td>3.0</td>\n      <td>2.25</td>\n      <td>6</td>\n      <td>02/02/2021</td>\n      <td>2</td>\n    </tr>\n    <tr>\n      <th>3</th>\n      <td>5.168</td>\n      <td>187.0</td>\n      <td>1</td>\n      <td>174.0</td>\n      <td>189.0</td>\n      <td>152.0</td>\n      <td>119022</td>\n      <td>35.8</td>\n      <td>22.375</td>\n      <td>16.272727</td>\n      <td>...</td>\n      <td>7</td>\n      <td>296.5</td>\n      <td>188.25</td>\n      <td>255.0</td>\n      <td>1.0</td>\n      <td>3.0</td>\n      <td>2.25</td>\n      <td>6</td>\n      <td>02/02/2021</td>\n      <td>3</td>\n    </tr>\n    <tr>\n      <th>4</th>\n      <td>5.168</td>\n      <td>185.0</td>\n      <td>2</td>\n      <td>174.0</td>\n      <td>189.0</td>\n      <td>152.0</td>\n      <td>119022</td>\n      <td>35.8</td>\n      <td>22.375</td>\n      <td>16.272727</td>\n      <td>...</td>\n      <td>7</td>\n      <td>296.5</td>\n      <td>188.25</td>\n      <td>255.0</td>\n      <td>1.0</td>\n      <td>3.0</td>\n      <td>2.25</td>\n      <td>6</td>\n      <td>02/02/2021</td>\n      <td>4</td>\n    </tr>\n  </tbody>\n</table>\n<p>5 rows × 34 columns</p>\n</div>"
     },
     "execution_count": 4,
     "metadata": {},
     "output_type": "execute_result"
    }
   ],
   "source": [
    "comb = pd.read_csv('combinedFeaturesv2.csv')\n",
    "comb = cf\n",
    "comb.head()\n"
   ],
   "metadata": {
    "collapsed": false,
    "pycharm": {
     "name": "#%%\n"
    }
   }
  },
  {
   "cell_type": "code",
   "execution_count": 5,
   "outputs": [
    {
     "data": {
      "text/plain": "array(['02/02/2021', '14/02/2021', '26/01/2021', '02/03/2021',\n       '24/02/2021', '08/03/2021', '08/02/2021', '16/02/2021',\n       '24/01/2021', '10/02/2021', '10/03/2021', '18/01/2021',\n       '18/02/2021', '22/02/2021', '10/01/2021', '06/01/2021',\n       '04/03/2021', '20/01/2021', '12/01/2021', '04/01/2021',\n       '15/02/2021', '27/01/2021', '03/02/2021', '01/03/2021',\n       '17/02/2021', '25/01/2021', '09/03/2021', '17/01/2021',\n       '25/02/2021', '09/02/2021', '29/04/2021', '07/01/2021',\n       '23/02/2021', '11/01/2021', '11/02/2021', '07/02/2021',\n       '19/01/2021', '05/01/2021', '21/02/2021', '13/01/2021',\n       '21/01/2021'], dtype=object)"
     },
     "execution_count": 5,
     "metadata": {},
     "output_type": "execute_result"
    }
   ],
   "source": [
    "comb.date.unique()"
   ],
   "metadata": {
    "collapsed": false,
    "pycharm": {
     "name": "#%%\n"
    }
   }
  },
  {
   "cell_type": "code",
   "execution_count": 6,
   "outputs": [
    {
     "ename": "KeyError",
     "evalue": "'Unnamed: 0'",
     "output_type": "error",
     "traceback": [
      "\u001B[0;31m---------------------------------------------------------------------------\u001B[0m",
      "\u001B[0;31mKeyError\u001B[0m                                  Traceback (most recent call last)",
      "File \u001B[0;32m~/Documents/Data Science MSc 2021-2022/PyInt/lib/python3.9/site-packages/pandas/core/indexes/base.py:3621\u001B[0m, in \u001B[0;36mIndex.get_loc\u001B[0;34m(self, key, method, tolerance)\u001B[0m\n\u001B[1;32m   3620\u001B[0m \u001B[38;5;28;01mtry\u001B[39;00m:\n\u001B[0;32m-> 3621\u001B[0m     \u001B[38;5;28;01mreturn\u001B[39;00m \u001B[38;5;28;43mself\u001B[39;49m\u001B[38;5;241;43m.\u001B[39;49m\u001B[43m_engine\u001B[49m\u001B[38;5;241;43m.\u001B[39;49m\u001B[43mget_loc\u001B[49m\u001B[43m(\u001B[49m\u001B[43mcasted_key\u001B[49m\u001B[43m)\u001B[49m\n\u001B[1;32m   3622\u001B[0m \u001B[38;5;28;01mexcept\u001B[39;00m \u001B[38;5;167;01mKeyError\u001B[39;00m \u001B[38;5;28;01mas\u001B[39;00m err:\n",
      "File \u001B[0;32mpandas/_libs/index.pyx:136\u001B[0m, in \u001B[0;36mpandas._libs.index.IndexEngine.get_loc\u001B[0;34m()\u001B[0m\n",
      "File \u001B[0;32mpandas/_libs/index.pyx:163\u001B[0m, in \u001B[0;36mpandas._libs.index.IndexEngine.get_loc\u001B[0;34m()\u001B[0m\n",
      "File \u001B[0;32mpandas/_libs/hashtable_class_helper.pxi:5198\u001B[0m, in \u001B[0;36mpandas._libs.hashtable.PyObjectHashTable.get_item\u001B[0;34m()\u001B[0m\n",
      "File \u001B[0;32mpandas/_libs/hashtable_class_helper.pxi:5206\u001B[0m, in \u001B[0;36mpandas._libs.hashtable.PyObjectHashTable.get_item\u001B[0;34m()\u001B[0m\n",
      "\u001B[0;31mKeyError\u001B[0m: 'Unnamed: 0'",
      "\nThe above exception was the direct cause of the following exception:\n",
      "\u001B[0;31mKeyError\u001B[0m                                  Traceback (most recent call last)",
      "Input \u001B[0;32mIn [6]\u001B[0m, in \u001B[0;36m<cell line: 13>\u001B[0;34m()\u001B[0m\n\u001B[1;32m     11\u001B[0m \u001B[38;5;28;01mdel\u001B[39;00m comb[\u001B[38;5;124m'\u001B[39m\u001B[38;5;124mLowestPrice\u001B[39m\u001B[38;5;124m'\u001B[39m]\n\u001B[1;32m     12\u001B[0m \u001B[38;5;28;01mdel\u001B[39;00m comb[\u001B[38;5;124m'\u001B[39m\u001B[38;5;124mClosingPrice\u001B[39m\u001B[38;5;124m'\u001B[39m]\n\u001B[0;32m---> 13\u001B[0m \u001B[38;5;28;01mdel\u001B[39;00m comb[\u001B[38;5;124m'\u001B[39m\u001B[38;5;124mUnnamed: 0\u001B[39m\u001B[38;5;124m'\u001B[39m]\n\u001B[1;32m     15\u001B[0m comb\u001B[38;5;241m.\u001B[39mto_csv(\u001B[38;5;124m'\u001B[39m\u001B[38;5;124mlOBFeatures\u001B[39m\u001B[38;5;124m'\u001B[39m)\n",
      "File \u001B[0;32m~/Documents/Data Science MSc 2021-2022/PyInt/lib/python3.9/site-packages/pandas/core/generic.py:4048\u001B[0m, in \u001B[0;36mNDFrame.__delitem__\u001B[0;34m(self, key)\u001B[0m\n\u001B[1;32m   4043\u001B[0m             deleted \u001B[38;5;241m=\u001B[39m \u001B[38;5;28;01mTrue\u001B[39;00m\n\u001B[1;32m   4044\u001B[0m \u001B[38;5;28;01mif\u001B[39;00m \u001B[38;5;129;01mnot\u001B[39;00m deleted:\n\u001B[1;32m   4045\u001B[0m     \u001B[38;5;66;03m# If the above loop ran and didn't delete anything because\u001B[39;00m\n\u001B[1;32m   4046\u001B[0m     \u001B[38;5;66;03m# there was no match, this call should raise the appropriate\u001B[39;00m\n\u001B[1;32m   4047\u001B[0m     \u001B[38;5;66;03m# exception:\u001B[39;00m\n\u001B[0;32m-> 4048\u001B[0m     loc \u001B[38;5;241m=\u001B[39m \u001B[38;5;28;43mself\u001B[39;49m\u001B[38;5;241;43m.\u001B[39;49m\u001B[43maxes\u001B[49m\u001B[43m[\u001B[49m\u001B[38;5;241;43m-\u001B[39;49m\u001B[38;5;241;43m1\u001B[39;49m\u001B[43m]\u001B[49m\u001B[38;5;241;43m.\u001B[39;49m\u001B[43mget_loc\u001B[49m\u001B[43m(\u001B[49m\u001B[43mkey\u001B[49m\u001B[43m)\u001B[49m\n\u001B[1;32m   4049\u001B[0m     \u001B[38;5;28mself\u001B[39m\u001B[38;5;241m.\u001B[39m_mgr \u001B[38;5;241m=\u001B[39m \u001B[38;5;28mself\u001B[39m\u001B[38;5;241m.\u001B[39m_mgr\u001B[38;5;241m.\u001B[39midelete(loc)\n\u001B[1;32m   4051\u001B[0m \u001B[38;5;66;03m# delete from the caches\u001B[39;00m\n",
      "File \u001B[0;32m~/Documents/Data Science MSc 2021-2022/PyInt/lib/python3.9/site-packages/pandas/core/indexes/base.py:3623\u001B[0m, in \u001B[0;36mIndex.get_loc\u001B[0;34m(self, key, method, tolerance)\u001B[0m\n\u001B[1;32m   3621\u001B[0m     \u001B[38;5;28;01mreturn\u001B[39;00m \u001B[38;5;28mself\u001B[39m\u001B[38;5;241m.\u001B[39m_engine\u001B[38;5;241m.\u001B[39mget_loc(casted_key)\n\u001B[1;32m   3622\u001B[0m \u001B[38;5;28;01mexcept\u001B[39;00m \u001B[38;5;167;01mKeyError\u001B[39;00m \u001B[38;5;28;01mas\u001B[39;00m err:\n\u001B[0;32m-> 3623\u001B[0m     \u001B[38;5;28;01mraise\u001B[39;00m \u001B[38;5;167;01mKeyError\u001B[39;00m(key) \u001B[38;5;28;01mfrom\u001B[39;00m \u001B[38;5;21;01merr\u001B[39;00m\n\u001B[1;32m   3624\u001B[0m \u001B[38;5;28;01mexcept\u001B[39;00m \u001B[38;5;167;01mTypeError\u001B[39;00m:\n\u001B[1;32m   3625\u001B[0m     \u001B[38;5;66;03m# If we have a listlike key, _check_indexing_error will raise\u001B[39;00m\n\u001B[1;32m   3626\u001B[0m     \u001B[38;5;66;03m#  InvalidIndexError. Otherwise we fall through and re-raise\u001B[39;00m\n\u001B[1;32m   3627\u001B[0m     \u001B[38;5;66;03m#  the TypeError.\u001B[39;00m\n\u001B[1;32m   3628\u001B[0m     \u001B[38;5;28mself\u001B[39m\u001B[38;5;241m.\u001B[39m_check_indexing_error(key)\n",
      "\u001B[0;31mKeyError\u001B[0m: 'Unnamed: 0'"
     ]
    }
   ],
   "source": [
    "del comb['SMA10Days']\n",
    "del comb['SMA16Days']\n",
    "del comb['SMA22Days']\n",
    "del comb['EMA10Days']\n",
    "del comb['EMA16Days']\n",
    "del comb['EMA22Days']\n",
    "del comb['DaysUntilWeekend']\n",
    "del comb['DaysUntilMonthEnd']\n",
    "del comb['VolumeTraded']\n",
    "del comb['HighestPrice']\n",
    "del comb['LowestPrice']\n",
    "del comb['ClosingPrice']"
   ],
   "metadata": {
    "collapsed": false,
    "pycharm": {
     "name": "#%%\n"
    }
   }
  },
  {
   "cell_type": "code",
   "execution_count": 7,
   "outputs": [],
   "source": [
    "comb.to_csv('lOBFeatures')"
   ],
   "metadata": {
    "collapsed": false,
    "pycharm": {
     "name": "#%%\n"
    }
   }
  },
  {
   "cell_type": "code",
   "execution_count": 13,
   "outputs": [
    {
     "ename": "KeyError",
     "evalue": "'date'",
     "output_type": "error",
     "traceback": [
      "\u001B[0;31m---------------------------------------------------------------------------\u001B[0m",
      "\u001B[0;31mKeyError\u001B[0m                                  Traceback (most recent call last)",
      "File \u001B[0;32m~/Documents/Data Science MSc 2021-2022/PyInt/lib/python3.9/site-packages/pandas/core/indexes/base.py:3621\u001B[0m, in \u001B[0;36mIndex.get_loc\u001B[0;34m(self, key, method, tolerance)\u001B[0m\n\u001B[1;32m   3620\u001B[0m \u001B[38;5;28;01mtry\u001B[39;00m:\n\u001B[0;32m-> 3621\u001B[0m     \u001B[38;5;28;01mreturn\u001B[39;00m \u001B[38;5;28;43mself\u001B[39;49m\u001B[38;5;241;43m.\u001B[39;49m\u001B[43m_engine\u001B[49m\u001B[38;5;241;43m.\u001B[39;49m\u001B[43mget_loc\u001B[49m\u001B[43m(\u001B[49m\u001B[43mcasted_key\u001B[49m\u001B[43m)\u001B[49m\n\u001B[1;32m   3622\u001B[0m \u001B[38;5;28;01mexcept\u001B[39;00m \u001B[38;5;167;01mKeyError\u001B[39;00m \u001B[38;5;28;01mas\u001B[39;00m err:\n",
      "File \u001B[0;32mpandas/_libs/index.pyx:136\u001B[0m, in \u001B[0;36mpandas._libs.index.IndexEngine.get_loc\u001B[0;34m()\u001B[0m\n",
      "File \u001B[0;32mpandas/_libs/index.pyx:163\u001B[0m, in \u001B[0;36mpandas._libs.index.IndexEngine.get_loc\u001B[0;34m()\u001B[0m\n",
      "File \u001B[0;32mpandas/_libs/hashtable_class_helper.pxi:5198\u001B[0m, in \u001B[0;36mpandas._libs.hashtable.PyObjectHashTable.get_item\u001B[0;34m()\u001B[0m\n",
      "File \u001B[0;32mpandas/_libs/hashtable_class_helper.pxi:5206\u001B[0m, in \u001B[0;36mpandas._libs.hashtable.PyObjectHashTable.get_item\u001B[0;34m()\u001B[0m\n",
      "\u001B[0;31mKeyError\u001B[0m: 'date'",
      "\nThe above exception was the direct cause of the following exception:\n",
      "\u001B[0;31mKeyError\u001B[0m                                  Traceback (most recent call last)",
      "Input \u001B[0;32mIn [13]\u001B[0m, in \u001B[0;36m<cell line: 1>\u001B[0;34m()\u001B[0m\n\u001B[0;32m----> 1\u001B[0m feb2 \u001B[38;5;241m=\u001B[39m comb[\u001B[43mcomb\u001B[49m\u001B[43m[\u001B[49m\u001B[38;5;124;43m'\u001B[39;49m\u001B[38;5;124;43mdate\u001B[39;49m\u001B[38;5;124;43m'\u001B[39;49m\u001B[43m]\u001B[49m\u001B[38;5;241m==\u001B[39m\u001B[38;5;124m'\u001B[39m\u001B[38;5;124m02/02/2021\u001B[39m\u001B[38;5;124m'\u001B[39m]\n",
      "File \u001B[0;32m~/Documents/Data Science MSc 2021-2022/PyInt/lib/python3.9/site-packages/pandas/core/frame.py:3505\u001B[0m, in \u001B[0;36mDataFrame.__getitem__\u001B[0;34m(self, key)\u001B[0m\n\u001B[1;32m   3503\u001B[0m \u001B[38;5;28;01mif\u001B[39;00m \u001B[38;5;28mself\u001B[39m\u001B[38;5;241m.\u001B[39mcolumns\u001B[38;5;241m.\u001B[39mnlevels \u001B[38;5;241m>\u001B[39m \u001B[38;5;241m1\u001B[39m:\n\u001B[1;32m   3504\u001B[0m     \u001B[38;5;28;01mreturn\u001B[39;00m \u001B[38;5;28mself\u001B[39m\u001B[38;5;241m.\u001B[39m_getitem_multilevel(key)\n\u001B[0;32m-> 3505\u001B[0m indexer \u001B[38;5;241m=\u001B[39m \u001B[38;5;28;43mself\u001B[39;49m\u001B[38;5;241;43m.\u001B[39;49m\u001B[43mcolumns\u001B[49m\u001B[38;5;241;43m.\u001B[39;49m\u001B[43mget_loc\u001B[49m\u001B[43m(\u001B[49m\u001B[43mkey\u001B[49m\u001B[43m)\u001B[49m\n\u001B[1;32m   3506\u001B[0m \u001B[38;5;28;01mif\u001B[39;00m is_integer(indexer):\n\u001B[1;32m   3507\u001B[0m     indexer \u001B[38;5;241m=\u001B[39m [indexer]\n",
      "File \u001B[0;32m~/Documents/Data Science MSc 2021-2022/PyInt/lib/python3.9/site-packages/pandas/core/indexes/base.py:3623\u001B[0m, in \u001B[0;36mIndex.get_loc\u001B[0;34m(self, key, method, tolerance)\u001B[0m\n\u001B[1;32m   3621\u001B[0m     \u001B[38;5;28;01mreturn\u001B[39;00m \u001B[38;5;28mself\u001B[39m\u001B[38;5;241m.\u001B[39m_engine\u001B[38;5;241m.\u001B[39mget_loc(casted_key)\n\u001B[1;32m   3622\u001B[0m \u001B[38;5;28;01mexcept\u001B[39;00m \u001B[38;5;167;01mKeyError\u001B[39;00m \u001B[38;5;28;01mas\u001B[39;00m err:\n\u001B[0;32m-> 3623\u001B[0m     \u001B[38;5;28;01mraise\u001B[39;00m \u001B[38;5;167;01mKeyError\u001B[39;00m(key) \u001B[38;5;28;01mfrom\u001B[39;00m \u001B[38;5;21;01merr\u001B[39;00m\n\u001B[1;32m   3624\u001B[0m \u001B[38;5;28;01mexcept\u001B[39;00m \u001B[38;5;167;01mTypeError\u001B[39;00m:\n\u001B[1;32m   3625\u001B[0m     \u001B[38;5;66;03m# If we have a listlike key, _check_indexing_error will raise\u001B[39;00m\n\u001B[1;32m   3626\u001B[0m     \u001B[38;5;66;03m#  InvalidIndexError. Otherwise we fall through and re-raise\u001B[39;00m\n\u001B[1;32m   3627\u001B[0m     \u001B[38;5;66;03m#  the TypeError.\u001B[39;00m\n\u001B[1;32m   3628\u001B[0m     \u001B[38;5;28mself\u001B[39m\u001B[38;5;241m.\u001B[39m_check_indexing_error(key)\n",
      "\u001B[0;31mKeyError\u001B[0m: 'date'"
     ]
    }
   ],
   "source": [
    "feb2 = comb[comb['date']=='02/02/2021']"
   ],
   "metadata": {
    "collapsed": false,
    "pycharm": {
     "name": "#%%\n"
    }
   }
  },
  {
   "cell_type": "code",
   "execution_count": null,
   "outputs": [],
   "source": [
    "import matplotlib.pyplot as plt\n",
    "plt.plot(feb2.time[:1000], feb2.MicroPrice[:1000])\n",
    "plt.plot(feb2.time[:1000], feb2.Price[:1000])"
   ],
   "metadata": {
    "collapsed": false,
    "pycharm": {
     "name": "#%%\n"
    }
   }
  },
  {
   "cell_type": "markdown",
   "source": [
    "**Combining all tape features**\n",
    "\n",
    "Here just combining all the tape feature files for all 81 files\n",
    "Including adding date and index columns and renaming the columns so its less annoying\n",
    "Created a summary table - uploaded to AWS"
   ],
   "metadata": {
    "collapsed": false,
    "pycharm": {
     "name": "#%% md\n"
    }
   }
  },
  {
   "cell_type": "markdown",
   "source": [],
   "metadata": {
    "collapsed": false
   }
  },
  {
   "cell_type": "code",
   "execution_count": null,
   "outputs": [],
   "source": [
    "import pandas as pd\n",
    "import os\n",
    "import glob\n",
    "\n",
    "x = ['01','02','03','04']\n",
    "cf = pd.DataFrame()\n",
    "\n",
    "for path in x:\n",
    "    csv_files = glob.glob(os.path.join(path, \"*.csv\"))\n",
    "    minicf = pd.DataFrame()\n",
    "\n",
    "    for f in csv_files:\n",
    "\n",
    "        df = pd.read_csv(f)\n",
    "\n",
    "        print('Location:', f)\n",
    "        string = f.split(\"/\")[-1]\n",
    "        df['date'] = [string[3:5]+'/'+path+'/2021']*len(df)\n",
    "        df['index'] = df.index\n",
    "        minicf = pd.concat([minicf,df])\n",
    "\n",
    "    cf = pd.concat([cf,minicf])"
   ],
   "metadata": {
    "collapsed": false,
    "pycharm": {
     "name": "#%%\n"
    }
   }
  },
  {
   "cell_type": "code",
   "execution_count": null,
   "outputs": [],
   "source": [
    "dailySummary = cf.loc[cf['index'] == 0]"
   ],
   "metadata": {
    "collapsed": false,
    "pycharm": {
     "name": "#%%\n"
    }
   }
  },
  {
   "cell_type": "code",
   "execution_count": null,
   "outputs": [],
   "source": [
    "del dailySummary['Price']\n",
    "del dailySummary['Quantity']"
   ],
   "metadata": {
    "collapsed": false,
    "pycharm": {
     "name": "#%%\n"
    }
   }
  },
  {
   "cell_type": "code",
   "execution_count": null,
   "outputs": [],
   "source": [
    "dailySummary"
   ],
   "metadata": {
    "collapsed": false,
    "pycharm": {
     "name": "#%%\n"
    }
   }
  },
  {
   "cell_type": "code",
   "execution_count": null,
   "outputs": [],
   "source": [
    "dailySummary.to_csv('tapesDailySummary.csv')"
   ],
   "metadata": {
    "collapsed": false,
    "pycharm": {
     "name": "#%%\n"
    }
   }
  },
  {
   "cell_type": "code",
   "execution_count": null,
   "outputs": [],
   "source": [
    "dailySummary = pd.read_csv('tapesDailySummary.csv', parse_dates=True, dayfirst=True)"
   ],
   "metadata": {
    "collapsed": false,
    "pycharm": {
     "name": "#%%\n"
    }
   }
  },
  {
   "cell_type": "code",
   "execution_count": null,
   "outputs": [],
   "source": [
    "dailySummary = dailySummary.rename(columns={'ClosingPrice':'closingPrice', 'HighestPrice':'highestPrice', 'LowestPrice':'lowestPrice','VolumeTraded':'volumeTraded','DaysUntilWeekend':'daysUntilWeekend', 'DaysUntilMonthEnd':'daysUntilMonthEnd'})"
   ],
   "metadata": {
    "collapsed": false,
    "pycharm": {
     "name": "#%%\n"
    }
   }
  },
  {
   "cell_type": "code",
   "execution_count": null,
   "outputs": [],
   "source": [
    "import numpy as np\n",
    "df = dailySummary\n",
    "df['date'] = pd.to_datetime(df['date'], format='%d/%m/%Y')\n",
    "df = df.sort_values(by='date')"
   ],
   "metadata": {
    "collapsed": false,
    "pycharm": {
     "name": "#%%\n"
    }
   }
  },
  {
   "cell_type": "code",
   "execution_count": null,
   "outputs": [],
   "source": [
    "df['ind']=np.arange(len(df))\n",
    "df"
   ],
   "metadata": {
    "collapsed": false,
    "pycharm": {
     "name": "#%%\n"
    }
   }
  },
  {
   "cell_type": "code",
   "execution_count": null,
   "outputs": [],
   "source": [
    "import datetime\n",
    "import matplotlib.pyplot as plt\n",
    "\n",
    "plt.plot(df.ind, df.closingPrice)"
   ],
   "metadata": {
    "collapsed": false,
    "pycharm": {
     "name": "#%%\n"
    }
   }
  },
  {
   "cell_type": "code",
   "execution_count": null,
   "outputs": [],
   "source": [
    "plt.plot(df.date, df.EMA10Days)"
   ],
   "metadata": {
    "collapsed": false,
    "pycharm": {
     "name": "#%%\n"
    }
   }
  },
  {
   "cell_type": "code",
   "execution_count": null,
   "outputs": [],
   "source": [
    "plt.plot(df.date, df.closingPrice)\n",
    "plt.plot(df.date, df.highestPrice, c='red')\n",
    "plt.plot(df.date, df.lowestPrice, c='g')"
   ],
   "metadata": {
    "collapsed": false,
    "pycharm": {
     "name": "#%%\n"
    }
   }
  },
  {
   "cell_type": "code",
   "execution_count": null,
   "outputs": [],
   "source": [
    "plt.plot(df.date,df.SMA10Days)\n",
    "plt.plot(df.date, df.closingPrice)"
   ],
   "metadata": {
    "collapsed": false,
    "pycharm": {
     "name": "#%%\n"
    }
   }
  }
 ],
 "metadata": {
  "kernelspec": {
   "display_name": "Python 3",
   "language": "python",
   "name": "python3"
  },
  "language_info": {
   "codemirror_mode": {
    "name": "ipython",
    "version": 2
   },
   "file_extension": ".py",
   "mimetype": "text/x-python",
   "name": "python",
   "nbconvert_exporter": "python",
   "pygments_lexer": "ipython2",
   "version": "2.7.6"
  }
 },
 "nbformat": 4,
 "nbformat_minor": 0
}
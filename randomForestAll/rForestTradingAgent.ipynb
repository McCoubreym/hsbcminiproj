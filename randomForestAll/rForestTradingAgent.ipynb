{
  "cells": [
    {
      "cell_type": "code",
      "execution_count": 57,
      "id": "uzgRZTf8TPoM",
      "metadata": {
        "colab": {
          "base_uri": "https://localhost:8080/"
        },
        "id": "uzgRZTf8TPoM",
        "outputId": "fb33d5e5-92f1-4780-b7dd-de6e27f901c9"
      },
      "outputs": [
        {
          "name": "stdout",
          "output_type": "stream",
          "text": [
            "Drive already mounted at /content/drive; to attempt to forcibly remount, call drive.mount(\"/content/drive\", force_remount=True).\n"
          ]
        }
      ],
      "source": [
        "from google.colab import drive\n",
        "drive.mount('/content/drive')"
      ]
    },
    {
      "cell_type": "code",
      "execution_count": 58,
      "id": "7abea6a4",
      "metadata": {
        "colab": {
          "base_uri": "https://localhost:8080/"
        },
        "id": "7abea6a4",
        "outputId": "7837183c-2083-4a39-b96a-38429022bd19"
      },
      "outputs": [
        {
          "name": "stdout",
          "output_type": "stream",
          "text": [
            "Mean Absolute Error: 1.1382021414706582\n",
            "Mean Squared Error: 8.336645738696047\n",
            "Root Mean Squared Error: 2.887325014385469\n"
          ]
        }
      ],
      "source": [
        "#!/usr/bin/env python3\n",
        "# -*- coding: utf-8 -*-\n",
        "\"\"\"\n",
        "Created on Tue Mar 22 11:43:45 2022\n",
        "\n",
        "@author: amygardiner\n",
        "\n",
        "Random forest regression with all the combined feature data\n",
        "\"\"\"\n",
        "import pandas as pd\n",
        "import numpy as np\n",
        "from sklearn.model_selection import train_test_split\n",
        "from sklearn.ensemble import RandomForestRegressor\n",
        "from sklearn import metrics\n",
        "from sklearn import tree\n",
        "import matplotlib.pyplot as plt\n",
        "\n",
        "dataset=pd.read_csv('allcombined.csv')\n",
        "x = dataset.drop(['Price'], axis=1)\n",
        "x = x.dropna(axis=1)\n",
        "\n",
        "y = dataset['Price']\n",
        "\n",
        "X_train, X_test, y_train, y_test = train_test_split(x, y, test_size = 0.25, random_state = 0)\n",
        "\n",
        "regressor = RandomForestRegressor(n_estimators = 100, random_state = 0)\n",
        "regressor.fit(X_train, y_train)\n",
        "y_pred = regressor.predict(X_test)\n",
        "\n",
        "print('Mean Absolute Error:', metrics.mean_absolute_error(y_test, y_pred))  \n",
        "print('Mean Squared Error:', metrics.mean_squared_error(y_test, y_pred))  \n",
        "print('Root Mean Squared Error:', np.sqrt(metrics.mean_squared_error(y_test, y_pred)))"
      ]
    },
    {
      "cell_type": "code",
      "execution_count": 63,
      "id": "cdc0ac61",
      "metadata": {
        "colab": {
          "base_uri": "https://localhost:8080/"
        },
        "id": "cdc0ac61",
        "outputId": "8f120ffd-7c3f-4f61-cc0d-bee359728320"
      },
      "outputs": [
        {
          "name": "stdout",
          "output_type": "stream",
          "text": [
            "(0.054396945989190607, 2.653514956403557)\n"
          ]
        }
      ],
      "source": [
        "# mean_error=0.09107903016842504 std=4.543720693427225\n",
        "def findStdOfModel(y_test, y_pred):\n",
        "  y_errors = np.absolute(y_test - y_pred)\n",
        "  y_error_mean = np.mean(y_test - y_pred)\n",
        "  y_error_std = np.std(y_errors)\n",
        "\n",
        "  return y_error_mean, y_error_std\n",
        "print(findStdOfModel(y_test, y_pred))\n",
        "\n",
        "#should be considered as constants\n",
        "#MEAN_ERROR = 0.09107903016842504\n",
        "#STD_ERROR = 4.543720693427225\n",
        "\n",
        "MEAN_ERROR = 0.054396945989190607\n",
        "STD_ERROR = 2.653514956403557"
      ]
    },
    {
      "cell_type": "code",
      "execution_count": 96,
      "id": "cd9c4992",
      "metadata": {
        "id": "cd9c4992"
      },
      "outputs": [],
      "source": [
        "# the random forest is able to predict the cost\n",
        "# if it predicts higher than the actual cost then perhaps its worth more than it is currently\n",
        "def transactionDecision(y_pred, y_actual, mean_error, std_error, transaction_threshold):\n",
        "        if y_pred < (y_actual + mean_error - (std_error * transaction_threshold)):\n",
        "            return \"buy\"\n",
        "        if y_pred > (y_actual + mean_error + (std_error * transaction_threshold)):\n",
        "            return \"sell\"\n",
        "        return \"no_transaction\"\n",
        "\n",
        "transactions = list(map(lambda predTuple: transactionDecision(predTuple[0], predTuple[1], MEAN_ERROR, STD_ERROR, 4), np.column_stack((y_pred, y_test))))"
      ]
    },
    {
      "cell_type": "code",
      "execution_count": 97,
      "id": "e67beaba",
      "metadata": {
        "colab": {
          "base_uri": "https://localhost:8080/"
        },
        "id": "e67beaba",
        "outputId": "9b7a602a-f03f-437f-d00d-c60010e3570a"
      },
      "outputs": [
        {
          "name": "stdout",
          "output_type": "stream",
          "text": [
            "0.010978493716186005 0.007793042644463079 0.9812284636393509 556907\n"
          ]
        }
      ],
      "source": [
        "def countList(transaction, func):\n",
        "  i =0\n",
        "  for t in transaction:\n",
        "    if func(t):\n",
        "      i+=1\n",
        "  return i\n",
        "\n",
        "numOfBuys = countList(transactions, lambda t: t =='buy')\n",
        "numOfSells = countList(transactions, lambda t: t =='sell')\n",
        "numOfNoTransaction = countList(transactions, lambda t: t =='no_transaction')\n",
        "totalTransactions = countList(transactions, lambda x: x==x)\n",
        "\n",
        "print(numOfBuys/totalTransactions, numOfSells/totalTransactions, numOfNoTransaction/totalTransactions, totalTransactions)"
      ]
    },
    {
      "cell_type": "code",
      "execution_count": 98,
      "id": "4d0f0891",
      "metadata": {
        "colab": {
          "base_uri": "https://localhost:8080/",
          "height": 265
        },
        "id": "4d0f0891",
        "outputId": "4c61128e-e888-4c36-d78d-7449716624f1"
      },
      "outputs": [
        {
          "data": {
            "image/png": "[encoded data removed]",
            "text/plain": [
              "<Figure size 432x288 with 1 Axes>"
            ]
          },
          "metadata": {
            "needs_background": "light"
          },
          "output_type": "display_data"
        }
      ],
      "source": [
        "# I want to confirm my assumption that the errors are normally distributed\n",
        "fig, ax = plt.subplots()\n",
        "ax.hist(y_test - y_pred, bins=40)\n",
        "plt.show()"
      ]
    },
    {
      "cell_type": "code",
      "execution_count": 100,
      "id": "8c6993bc",
      "metadata": {
        "colab": {
          "base_uri": "https://localhost:8080/"
        },
        "id": "8c6993bc",
        "outputId": "5d454d8a-8ce7-4528-890c-db8f44953995"
      },
      "outputs": [
        {
          "name": "stdout",
          "output_type": "stream",
          "text": [
            "good buys 0.6601243048740595 of total buys 6114\n",
            "good sells 0.5518433179723502 of total sells 4340\n"
          ]
        }
      ],
      "source": [
        "#np.argwhere(transactions)\n",
        "def getIndexIfBuy(t,i):\n",
        "  if t=='buy':\n",
        "     return i\n",
        "\n",
        "def getIndexIfSell(t,i):\n",
        "  if t=='sell':\n",
        "     return i\n",
        "\n",
        "def applyToList(f):\n",
        "  indicies = []\n",
        "  for i in range (len(transactions)):\n",
        "    temp = f(transactions[i], i)\n",
        "    if temp:\n",
        "      indicies.append(temp)\n",
        "  return indicies\n",
        "\n",
        "#buyIndicies = list(filter(lambda a: a,map(getIndexIfBuy, transactions, range(len(transactions)))))\n",
        "#sellIndicies = list(filter(lambda a: a,map(getIndexIfSell, transactions, range(len(transactions)))))\n",
        "buyIndicies = applyToList(getIndexIfBuy)\n",
        "sellIndicies = applyToList(getIndexIfSell)\n",
        "\n",
        "larger=0\n",
        "smaller=0\n",
        "for i in buyIndicies:\n",
        "  if i+1 < len(y_test) and  y_test.values[i] < y_test.values[i+1]:\n",
        "      larger+=1\n",
        "  else:\n",
        "      smaller+=1\n",
        "\n",
        "print(\"good buys\",larger/(larger + smaller), \"of total buys\", len(buyIndicies))\n",
        "\n",
        "larger=0\n",
        "smaller=0\n",
        "for i in sellIndicies:\n",
        "  if i+1 < len(y_test) and y_test.values[i] < y_test.values[i+1]:\n",
        "      larger+=1\n",
        "  else:\n",
        "      smaller+=1\n",
        "\n",
        "print(\"good sells\",smaller/(larger + smaller), \"of total sells\", len(sellIndicies))"
      ]
    },
    {
      "cell_type": "markdown",
      "id": "fea735eb",
      "metadata": {
        "id": "fea735eb"
      },
      "source": [
        "Results:\n",
        "\n",
        "0 std:\n",
        "good buys 0.6204450966006358 of total buys 4089, \n",
        "good sells 0.6011018463371054 of total sells 6716\n",
        "\n",
        "0.5 std:\n",
        "good buys 0.7414500683994528 of total buys 1462, \n",
        "good sells 0.6283343212803794 of total sells 1687\n",
        "\n",
        "1 std:\n",
        "good buys 0.8040540540540541 of total buys 888, \n",
        "good sells 0.6391129032258065 of total sells 992\n",
        "\n",
        "2 std:\n",
        "good buys 0.8167420814479638 of total buys 442, \n",
        "good sells 0.6379310344827587 of total sells 464\n",
        "\n",
        "3 std:\n",
        "good buys 0.8467432950191571 of total buys 261, \n",
        "good sells 0.688212927756654 of total sells 263\n",
        "\n",
        "6 std:\n",
        "good buys 1.0 of total buys 7, \n",
        "good sells 0.75 of total sells 8"
      ]
    },
    {
      "cell_type": "markdown",
      "id": "df51c44e",
      "metadata": {
        "id": "df51c44e"
      },
      "source": [
        "Suprisingly this simple way of choosing buying and selling transaction can have great performace. But this should be more vigorously tested using a trading simulator\n",
        "\n",
        "The greater the standard deviation threshold the greater the performace, however the greater the threshold the less transactions are done. I think the best way to go about this would be use a high threshold but buy larger amounts, as we can have higher confidence that it will increase in value.\n",
        "\n",
        "I also noticed that performace increased slowly for sell transactions, compared to buy transactions. I had my suspitions about this when visualising the data as there were mor buy 'signals'. For this reason I suggest we either don't consider sell transactions or we increase the threshold to something exetremly high like 6 standard deviations."
      ]
    },
    {
      "cell_type": "code",
      "execution_count": 101,
      "id": "ea572b96",
      "metadata": {
        "id": "ea572b96"
      },
      "outputs": [],
      "source": [
        "transactionsDf = pd.DataFrame({'transactionType': transactions, 'priceAtTimeOfTransaction': y_test, 'amountOfUnitsTransacted':1})"
      ]
    },
    {
      "cell_type": "code",
      "execution_count": 102,
      "id": "Y8f8YSLysYOa",
      "metadata": {
        "id": "Y8f8YSLysYOa"
      },
      "outputs": [],
      "source": [
        "transactionsDf.to_csv(\"TransactionDecisions.csv\")"
      ]
    },
    {
      "cell_type": "code",
      "execution_count": 103,
      "id": "EAfvaELuseAM",
      "metadata": {
        "id": "EAfvaELuseAM"
      },
      "outputs": [],
      "source": [
        "transactionsDf[transactionsDf[\"transactionType\"] != 'no_transaction'].to_csv(\"FilteredTransactionDecisions.csv\")"
      ]
    },
    {
      "cell_type": "code",
      "execution_count": null,
      "id": "QYf0wn2Pz0J0",
      "metadata": {
        "id": "QYf0wn2Pz0J0"
      },
      "outputs": [],
      "source": []
    }
  ],
  "metadata": {
    "colab": {
      "collapsed_sections": [],
      "name": "rForestTradingAgent.ipynb",
      "provenance": []
    },
    "kernelspec": {
      "display_name": "Python 3 (ipykernel)",
      "language": "python",
      "name": "python3"
    },
    "language_info": {
      "codemirror_mode": {
        "name": "ipython",
        "version": 3
      },
      "file_extension": ".py",
      "mimetype": "text/x-python",
      "name": "python",
      "nbconvert_exporter": "python",
      "pygments_lexer": "ipython3",
      "version": "3.9.7"
    }
  },
  "nbformat": 4,
  "nbformat_minor": 5
}

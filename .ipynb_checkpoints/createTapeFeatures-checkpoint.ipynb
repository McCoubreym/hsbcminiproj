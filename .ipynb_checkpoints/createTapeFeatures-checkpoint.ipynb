{
 "cells": [
  {
   "cell_type": "code",
   "execution_count": null,
   "metadata": {
    "id": "VYiG72zbgYw3"
   },
   "outputs": [],
   "source": [
    "pip install pyspark"
   ]
  },
  {
   "cell_type": "code",
   "execution_count": null,
   "metadata": {
    "id": "5ptwi8wIgoWW"
   },
   "outputs": [],
   "source": [
    "import pyspark\n",
    "import datetime"
   ]
  },
  {
   "cell_type": "code",
   "execution_count": null,
   "metadata": {
    "id": "3PFBsMu0hJNO"
   },
   "outputs": [],
   "source": [
    "from pyspark import SparkContext, SparkConf, sql\n",
    "from pyspark.sql import Row"
   ]
  },
  {
   "cell_type": "code",
   "execution_count": null,
   "metadata": {
    "id": "lmx2cDAAhL3H"
   },
   "outputs": [],
   "source": [
    "sc = SparkContext.getOrCreate()\n",
    "sqlContext = sql.SQLContext(sc)"
   ]
  },
  {
   "cell_type": "code",
   "execution_count": 14,
   "metadata": {
    "id": "DiS4b0I7hrKO"
   },
   "outputs": [],
   "source": [
    "from pyspark.sql.types import StructType, StructField, IntegerType, FloatType, StringType\n",
    "from pyspark.sql.window import Window\n",
    "from pyspark.sql.functions import col,avg,sum,min,max,row_number,cume_dist,first,lag,lit,when\n",
    "from pyspark.sql.functions import column\n",
    "from re import split\n",
    "\n",
    "tapeDf = sqlContext.read.format(\"csv\")\\\n",
    ".option(\"inferSchema\", True) \\\n",
    ".option(\"header\", False) \\\n",
    ".load(\"/content/sample_data/HSBC3/*\")\n",
    "\n",
    "tapeDf1 = tapeDf.select(\"_c0\", \"_c2\", \"_c3\", \"_c8\")\\\n",
    ".withColumnRenamed(\"_c0\", \"Date\")\\\n",
    ".withColumnRenamed(\"_c2\", \"TimeInSec\")\\\n",
    ".withColumnRenamed(\"_c3\", \"Price\")\\\n",
    ".withColumnRenamed(\"_c8\", \"Quantity\")\n",
    "\n",
    "# tapeDf1.show()\n",
    "\n",
    "tapeDf2 = tapeDf1.rdd.map(lambda x : (\n",
    "    float(x.TimeInSec), int(x.Date.split(\"-\")[1]), int(x.Date.split(\"-\")[2]), float(x.Price), int(x.Quantity.split(\":\")[1].strip()),\\\n",
    "    int(datetime.datetime(int(x.Date.split(\"-\")[0][3:]), int(x.Date.split(\"-\")[1]), int(x.Date.split(\"-\")[2])).strftime('%w'))))\n",
    "\n",
    "schema = StructType([\n",
    "                     StructField(\"TimeInSec\", FloatType(), True),\n",
    "                     StructField(\"Month\", IntegerType(), True),\n",
    "                     StructField(\"Day\", IntegerType(), True),\n",
    "                     StructField(\"Price\", FloatType(), True),\n",
    "                     StructField(\"Quantity\", IntegerType(), True),\n",
    "                     StructField(\"DayOfWeek\", IntegerType(), True)\n",
    "])\n",
    "\n",
    "tapeDf3 = sqlContext.createDataFrame(tapeDf2, schema)\n",
    "# tapeDf3.show()"
   ]
  },
  {
   "cell_type": "code",
   "execution_count": 15,
   "metadata": {
    "id": "BpByh3KfJmB3"
   },
   "outputs": [],
   "source": [
    "windowSpec = Window.partitionBy(\"Month\", \"Day\").orderBy(col(\"TimeInSec\").desc())\n",
    "windowSpecAggregator = Window.partitionBy(\"Month\", \"Day\")\n",
    "\n",
    "groupedDf = tapeDf3.withColumn(\"HighestPrice\", max(col(\"Price\")).over(windowSpecAggregator))\\\n",
    ".withColumn(\"LowestPrice\", min(col(\"Price\")).over(windowSpecAggregator))\\\n",
    ".withColumn(\"VolumeTraded\", sum(col(\"Quantity\")).over(windowSpecAggregator))\\\n",
    ".withColumn(\"RowNumber\", row_number().over(windowSpec))\\\n",
    ".withColumnRenamed(\"Price\", \"ClosingPrice\")\\\n",
    ".where(col(\"RowNumber\")==1)\\\n",
    ".select(\"Month\", \"Day\", \"ClosingPrice\", \"HighestPrice\", \"LowestPrice\", \"VolumeTraded\", \"DayOfWeek\")\n",
    "\n",
    "# groupedDf.show()\n",
    "\n",
    "windowSpec1 = Window.partitionBy(\"Month\").orderBy(\"Day\")\n",
    "windowSpec10 = Window.partitionBy(\"Month\").orderBy(\"Day\").rangeBetween(-9, Window.currentRow)\n",
    "windowSpec16 = Window.partitionBy(\"Month\").orderBy(\"Day\").rangeBetween(-15, Window.currentRow)\n",
    "windowSpec22 = Window.partitionBy(\"Month\").orderBy(\"Day\").rangeBetween(-21, Window.currentRow)\n",
    "\n",
    "featuresDf = groupedDf.withColumn(\"SMA10Days\", sum(col(\"ClosingPrice\")/10).over(windowSpec10))\\\n",
    ".withColumn(\"SMA16Days\", sum(col(\"ClosingPrice\")/16).over(windowSpec16))\\\n",
    ".withColumn(\"SMA22Days\", sum(col(\"ClosingPrice\")/22).over(windowSpec22))\\\n",
    ".withColumn(\"EMA10Days\", (col(\"SMA10Days\")*(2/11))+(lag(\"SMA10Days\").over(windowSpec1)*(1-(2/11))))\\\n",
    ".withColumn(\"EMA16Days\", (col(\"SMA16Days\")*(2/17))+(lag(\"SMA16Days\").over(windowSpec1)*(1-(2/17))))\\\n",
    ".withColumn(\"EMA22Days\", (col(\"SMA22Days\")*(2/23))+(lag(\"SMA22Days\").over(windowSpec1)*(1-(2/23))))\\\n",
    ".withColumn(\"DaysUntilWeekend\", when(col(\"DayOfWeek\")==0, 0)\n",
    ".when(col(\"DayOfWeek\")==1, 5)\n",
    ".when(col(\"DayOfWeek\")==2, 4)\n",
    ".when(col(\"DayOfWeek\")==3, 3)\n",
    ".when(col(\"DayOfWeek\")==4, 2)\n",
    ".when(col(\"DayOfWeek\")==5, 1)\n",
    ".when(col(\"DayOfWeek\")==6, 0))\\\n",
    ".withColumn(\"DaysUntilMonthEnd\", when((col(\"Month\")==1) | (col(\"Month\")==3) | (col(\"Month\")==5) | (col(\"Month\")==7) | (col(\"Month\")==8)\\\n",
    "                                      | (col(\"Month\")==10) | (col(\"Month\")==12), 31-col(\"Day\"))\n",
    ".when(col(\"Month\")==2, 28-col(\"Day\"))\n",
    ".otherwise(30-col(\"Day\")))\n",
    "\n",
    "# featuresDf.show()"
   ]
  },
  {
   "cell_type": "code",
   "execution_count": 16,
   "metadata": {
    "colab": {
     "base_uri": "https://localhost:8080/"
    },
    "id": "cyHTEJrSyRFa",
    "outputId": "2c6a28d3-4548-4423-bc3a-304120dc8003"
   },
   "outputs": [
    {
     "name": "stdout",
     "output_type": "stream",
     "text": [
      "+-----+---+---------+-----+--------+------------+------------+-----------+------------+------------------+---------+------------------+-----------------+------------------+------------------+----------------+-----------------+\n",
      "|Month|Day|TimeInSec|Price|Quantity|ClosingPrice|HighestPrice|LowestPrice|VolumeTraded|         SMA10Days|SMA16Days|         SMA22Days|        EMA10Days|         EMA16Days|         EMA22Days|DaysUntilWeekend|DaysUntilMonthEnd|\n",
      "+-----+---+---------+-----+--------+------------+------------+-----------+------------+------------------+---------+------------------+-----------------+------------------+------------------+----------------+-----------------+\n",
      "|    4|  6|    5.968|125.0|       3|       150.0|       153.0|      118.0|      119064|59.599999999999994|    37.25|27.090909090909093|47.32727272727272|28.977941176470587|20.865612648221344|               3|               24|\n",
      "|    4|  6|    6.512|126.0|       2|       150.0|       153.0|      118.0|      119064|59.599999999999994|    37.25|27.090909090909093|47.32727272727272|28.977941176470587|20.865612648221344|               3|               24|\n",
      "|    4|  6|    6.864|126.0|       1|       150.0|       153.0|      118.0|      119064|59.599999999999994|    37.25|27.090909090909093|47.32727272727272|28.977941176470587|20.865612648221344|               3|               24|\n",
      "|    4|  6|    7.024|125.0|       1|       150.0|       153.0|      118.0|      119064|59.599999999999994|    37.25|27.090909090909093|47.32727272727272|28.977941176470587|20.865612648221344|               3|               24|\n",
      "|    4|  6|    8.064|125.0|       2|       150.0|       153.0|      118.0|      119064|59.599999999999994|    37.25|27.090909090909093|47.32727272727272|28.977941176470587|20.865612648221344|               3|               24|\n",
      "|    4|  6|    8.096|126.0|       2|       150.0|       153.0|      118.0|      119064|59.599999999999994|    37.25|27.090909090909093|47.32727272727272|28.977941176470587|20.865612648221344|               3|               24|\n",
      "|    4|  6|    8.128|125.0|       2|       150.0|       153.0|      118.0|      119064|59.599999999999994|    37.25|27.090909090909093|47.32727272727272|28.977941176470587|20.865612648221344|               3|               24|\n",
      "|    4|  6|    8.816|125.0|       2|       150.0|       153.0|      118.0|      119064|59.599999999999994|    37.25|27.090909090909093|47.32727272727272|28.977941176470587|20.865612648221344|               3|               24|\n",
      "|    4|  6|    9.008|123.0|       2|       150.0|       153.0|      118.0|      119064|59.599999999999994|    37.25|27.090909090909093|47.32727272727272|28.977941176470587|20.865612648221344|               3|               24|\n",
      "|    4|  6|    9.008|124.0|       1|       150.0|       153.0|      118.0|      119064|59.599999999999994|    37.25|27.090909090909093|47.32727272727272|28.977941176470587|20.865612648221344|               3|               24|\n",
      "|    4|  6|    9.008|128.0|       1|       150.0|       153.0|      118.0|      119064|59.599999999999994|    37.25|27.090909090909093|47.32727272727272|28.977941176470587|20.865612648221344|               3|               24|\n",
      "|    4|  6|    9.664|128.0|       4|       150.0|       153.0|      118.0|      119064|59.599999999999994|    37.25|27.090909090909093|47.32727272727272|28.977941176470587|20.865612648221344|               3|               24|\n",
      "|    4|  6|    9.664|142.0|       1|       150.0|       153.0|      118.0|      119064|59.599999999999994|    37.25|27.090909090909093|47.32727272727272|28.977941176470587|20.865612648221344|               3|               24|\n",
      "|    4|  6|   10.352|142.0|       4|       150.0|       153.0|      118.0|      119064|59.599999999999994|    37.25|27.090909090909093|47.32727272727272|28.977941176470587|20.865612648221344|               3|               24|\n",
      "|    4|  6|   12.032|125.0|       1|       150.0|       153.0|      118.0|      119064|59.599999999999994|    37.25|27.090909090909093|47.32727272727272|28.977941176470587|20.865612648221344|               3|               24|\n",
      "|    4|  6|    12.32|127.0|       3|       150.0|       153.0|      118.0|      119064|59.599999999999994|    37.25|27.090909090909093|47.32727272727272|28.977941176470587|20.865612648221344|               3|               24|\n",
      "|    4|  6|   12.368|127.0|       2|       150.0|       153.0|      118.0|      119064|59.599999999999994|    37.25|27.090909090909093|47.32727272727272|28.977941176470587|20.865612648221344|               3|               24|\n",
      "|    4|  6|   13.808|130.0|       1|       150.0|       153.0|      118.0|      119064|59.599999999999994|    37.25|27.090909090909093|47.32727272727272|28.977941176470587|20.865612648221344|               3|               24|\n",
      "|    4|  6|   13.872|131.0|       1|       150.0|       153.0|      118.0|      119064|59.599999999999994|    37.25|27.090909090909093|47.32727272727272|28.977941176470587|20.865612648221344|               3|               24|\n",
      "|    4|  6|   14.576|130.0|       2|       150.0|       153.0|      118.0|      119064|59.599999999999994|    37.25|27.090909090909093|47.32727272727272|28.977941176470587|20.865612648221344|               3|               24|\n",
      "+-----+---+---------+-----+--------+------------+------------+-----------+------------+------------------+---------+------------------+-----------------+------------------+------------------+----------------+-----------------+\n",
      "only showing top 20 rows\n",
      "\n"
     ]
    }
   ],
   "source": [
    "finalDf = tapeDf3.alias(\"a\").join(featuresDf.alias(\"b\"), (tapeDf3.Month == featuresDf.Month) & (tapeDf3.Day == featuresDf.Day))\\\n",
    ".select(\"a.Month\", \"a.Day\", \"a.TimeInSec\", \"a.Price\", \"a.Quantity\", \"b.ClosingPrice\", \"b.HighestPrice\", \"b.LowestPrice\", \"b.VolumeTraded\", \\\n",
    "        \"b.SMA10Days\", \"b.SMA16Days\", \"b.SMA22Days\", \"b.EMA10Days\", \"b.EMA16Days\", \"b.EMA22Days\", \"b.DaysUntilWeekend\", \"b.DaysUntilMonthEnd\")\n",
    "\n",
    "finalDf.show()\n",
    "\n",
    "finalDf.write.option(\"header\",True)\\\n",
    ".partitionBy(\"Month\", \"Day\")\\\n",
    ".mode(\"overwrite\")\\\n",
    ".csv(\"/content/sample_data/HSBC3/SampleTapeFeatures3/\")"
   ]
  },
  {
   "cell_type": "markdown",
   "metadata": {
    "id": "uSTqAtwiJq6u"
   },
   "source": [
    "# New Section"
   ]
  }
 ],
 "metadata": {
  "colab": {
   "collapsed_sections": [],
   "name": "Untitled0.ipynb",
   "provenance": []
  },
  "kernelspec": {
   "display_name": "Python 3 (ipykernel)",
   "language": "python",
   "name": "python3"
  },
  "language_info": {
   "codemirror_mode": {
    "name": "ipython",
    "version": 3
   },
   "file_extension": ".py",
   "mimetype": "text/x-python",
   "name": "python",
   "nbconvert_exporter": "python",
   "pygments_lexer": "ipython3",
   "version": "3.9.12"
  }
 },
 "nbformat": 4,
 "nbformat_minor": 1
}

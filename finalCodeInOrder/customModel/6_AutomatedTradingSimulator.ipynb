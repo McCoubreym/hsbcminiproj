{
  "nbformat": 4,
  "nbformat_minor": 0,
  "metadata": {
    "colab": {
      "name": "Untitled4.ipynb",
      "provenance": []
    },
    "kernelspec": {
      "name": "python3",
      "display_name": "Python 3"
    },
    "language_info": {
      "name": "python"
    }
  },
  "cells": [
    {
      "cell_type": "code",
      "execution_count": 106,
      "metadata": {
        "id": "TuqBCjuQT-FS"
      },
      "outputs": [],
      "source": [
        "import pandas as pd\n"
      ]
    },
    {
      "cell_type": "code",
      "source": [
        "data_path = \"/results/FilteredTransactionDecisions.csv\"\n",
        "decision_df = pd.read_csv(data_path)\n"
      ],
      "metadata": {
        "id": "mbgJXE1PUROx"
      },
      "execution_count": null,
      "outputs": []
    },
    {
      "cell_type": "code",
      "source": [
        "amount = 100000 # initial amount with trader\n",
        "portfolio = 0 # this denotes the current number of shares with trader\n",
        "money_end = amount # this is the amount left after trading, initial value is equal to amount\n",
        "investment = [0] # this list keeps track of investments with the last value in list giving the total investment till time\n",
        "transaction_cost = 0.0075 # a trasaction cost charged for trading\n",
        "\n",
        "def buy(quantity, price):\n",
        "  global portfolio, money_end\n",
        "  allocated_money = quantity*price\n",
        "  money_end = money_end - allocated_money - (transaction_cost * allocated_money)\n",
        "  portfolio += quantity\n",
        "  if investment == [0]:\n",
        "    investment.append(allocated_money)\n",
        "  else:\n",
        "    investment.append(allocated_money)\n",
        "    investment[-1] += investment[-2]\n",
        "\n",
        "def sell(quantity, price):\n",
        "  global portfolio, money_end\n",
        "  allocated_money = quantity*price\n",
        "  money_end = money_end + allocated_money - (transaction_cost * allocated_money)\n",
        "  portfolio -= quantity\n",
        "  investment.append(-allocated_money)\n",
        "  investment[-1] += investment[-2]"
      ],
      "metadata": {
        "id": "0e8fEwYMUsZc"
      },
      "execution_count": 127,
      "outputs": []
    },
    {
      "cell_type": "code",
      "source": [
        "for index, row in decision_df.iterrows():\n",
        "  if(row[\"transactionType\"]==\"buy\"):\n",
        "    buy(row[\"amountOfUnitsTransacted\"], row[\"priceAtTimeOfTransaction\"])\n",
        "  elif(row[\"transactionType\"]==\"sell\"):\n",
        "    sell(row[\"amountOfUnitsTransacted\"], row[\"priceAtTimeOfTransaction\"])"
      ],
      "metadata": {
        "id": "hn8cFhJzVAir"
      },
      "execution_count": 128,
      "outputs": []
    },
    {
      "cell_type": "code",
      "source": [
        "print(money_end)\n",
        "print(portfolio)\n",
        "print(investment)\n",
        "print(money_end-amount)"
      ],
      "metadata": {
        "id": "27sudgfpV8Wc"
      },
      "execution_count": null,
      "outputs": []
    }
  ]
}